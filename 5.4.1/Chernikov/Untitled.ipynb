{
 "cells": [
  {
   "cell_type": "code",
   "execution_count": 8,
   "id": "56790400",
   "metadata": {},
   "outputs": [
    {
     "name": "stderr",
     "output_type": "stream",
     "text": [
      "/tmp/ipykernel_51919/844625569.py:8: UserWarning: Matplotlib is currently using pgf, which is a non-GUI backend, so cannot show the figure.\n",
      "  plt.show()\n"
     ]
    },
    {
     "data": {
      "text/plain": [
       "<Figure size 432x288 with 0 Axes>"
      ]
     },
     "metadata": {},
     "output_type": "display_data"
    }
   ],
   "source": [
    "import numpy as np\n",
    "import pandas as pd\n",
    "import matplotlib\n",
    "from matplotlib import pyplot as plt\n",
    "from scipy.optimize import minimize\n",
    "\n",
    "plt.savefig('1.pgf')\n",
    "plt.show()\n",
    "\n",
    "matplotlib.use(\"pgf\")\n",
    "matplotlib.rcParams.update({\n",
    "    \"pgf.texsystem\": \"pdflatex\",\n",
    "    'font.family': 'serif',\n",
    "    'text.usetex': True,\n",
    "    'pgf.rcfonts': False,\n",
    "})"
   ]
  },
  {
   "cell_type": "code",
   "execution_count": 9,
   "id": "a31eba65",
   "metadata": {},
   "outputs": [],
   "source": [
    "def read_files(files):\n",
    "    ret = []\n",
    "    for f in files:\n",
    "        ret += [pd.read_csv(f)]\n",
    "    return ret"
   ]
  },
  {
   "cell_type": "code",
   "execution_count": 10,
   "id": "5c6d3259",
   "metadata": {},
   "outputs": [],
   "source": [
    "geig, cam = read_files(['tab1.csv', 'tab2.csv'])"
   ]
  },
  {
   "cell_type": "code",
   "execution_count": 18,
   "id": "3c8091ae",
   "metadata": {},
   "outputs": [],
   "source": [
    "def sigmoid(par, x):\n",
    "    return par[0]/(1 + np.exp(par[1]*(x-par[2])))\n",
    "\n",
    "def sigmoid_der(par, x):\n",
    "    return par[0]*par[1]*np.exp(par[1]*(x-par[2]))/(1+np.exp(par[1]*(x-par[2])))**2"
   ]
  },
  {
   "cell_type": "code",
   "execution_count": 19,
   "id": "f1ea49fc",
   "metadata": {},
   "outputs": [],
   "source": [
    "def fit(f, params, x, y):\n",
    "    def err(par, x_, y_):\n",
    "        y1 = f(par, x_)\n",
    "        return np.sum((y1-y_)**2)\n",
    "    \n",
    "    return minimize(err, params, args=(x, y)).x"
   ]
  },
  {
   "cell_type": "code",
   "execution_count": 56,
   "id": "16ebc96a",
   "metadata": {},
   "outputs": [
    {
     "name": "stdout",
     "output_type": "stream",
     "text": [
      "[14.20390255  2.70750628  8.11588496]\n"
     ]
    },
    {
     "name": "stderr",
     "output_type": "stream",
     "text": [
      "/tmp/ipykernel_51919/3898094939.py:21: UserWarning: Matplotlib is currently using pgf, which is a non-GUI backend, so cannot show the figure.\n",
      "  plt.show()\n"
     ]
    },
    {
     "data": {
      "image/png": "[encoded data removed]",
      "text/plain": [
       "<Figure size 432x288 with 1 Axes>"
      ]
     },
     "metadata": {
      "needs_background": "light"
     },
     "output_type": "display_data"
    }
   ],
   "source": [
    "geig['N1'] = geig['N'] / geig['t']\n",
    "delta_N = 0.5 * geig['N'] / geig['t']**2\n",
    "par = np.array([0, 0, 0])\n",
    "par = fit(sigmoid, par, geig['l'], geig['N1'])\n",
    "print(par)\n",
    "\n",
    "x = np.linspace(0, 50, num=100)\n",
    "plt.plot(x, sigmoid(par, x), 'k', linewidth=1, label='N approximation')\n",
    "plt.plot(x, sigmoid_der(par, x), 'k--', linewidth=1, label='dN/dx approximation')\n",
    "\n",
    "plt.errorbar(geig['l'], geig['N1'], fmt='k.', yerr=delta_N*2, linewidth=1, label='measurments')\n",
    "\n",
    "# plt.plot(calib['barrel'], calib['lambda'], '.', linewidth=1, label='calibration points')\n",
    "\n",
    "plt.grid(linestyle='--')\n",
    "plt.xlabel('$l, mm$')\n",
    "plt.ylabel('$N$')\n",
    "plt.legend()\n",
    "\n",
    "plt.savefig('geig.pgf')\n",
    "plt.show()"
   ]
  },
  {
   "cell_type": "code",
   "execution_count": 54,
   "id": "60060d88",
   "metadata": {},
   "outputs": [
    {
     "name": "stdout",
     "output_type": "stream",
     "text": [
      "\\begin{tabular}{lrrrr}\n",
      "\\toprule\n",
      "{} &   l &    N &    t &         N1 \\\\\n",
      "\\midrule\n",
      "0  &  10 &   14 &   72 &   0.194444 \\\\\n",
      "1  &   5 &  439 &   30 &  14.633333 \\\\\n",
      "2  &   1 &  411 &   30 &  13.700000 \\\\\n",
      "3  &   8 &  242 &   30 &   8.066667 \\\\\n",
      "4  &   9 &   42 &   30 &   1.400000 \\\\\n",
      "5  &  40 &   12 &  113 &   0.106195 \\\\\n",
      "6  &   3 &  419 &   30 &  13.966667 \\\\\n",
      "7  &   7 &  418 &   30 &  13.933333 \\\\\n",
      "8  &  15 &   18 &  107 &   0.168224 \\\\\n",
      "9  &  20 &   18 &  107 &   0.168224 \\\\\n",
      "10 &  25 &   22 &   93 &   0.236559 \\\\\n",
      "\\bottomrule\n",
      "\\end{tabular}\n",
      "\n",
      "0     0.001350\n",
      "1     0.243889\n",
      "2     0.228333\n",
      "3     0.134444\n",
      "4     0.023333\n",
      "5     0.000470\n",
      "6     0.232778\n",
      "7     0.232222\n",
      "8     0.000786\n",
      "9     0.000786\n",
      "10    0.001272\n",
      "dtype: float64\n"
     ]
    }
   ],
   "source": [
    "print(geig.to_latex())\n",
    "print(delta_N)"
   ]
  },
  {
   "cell_type": "code",
   "execution_count": 51,
   "id": "09fa54f4",
   "metadata": {},
   "outputs": [
    {
     "name": "stderr",
     "output_type": "stream",
     "text": [
      "/tmp/ipykernel_51919/2457023802.py:27: UserWarning: Matplotlib is currently using pgf, which is a non-GUI backend, so cannot show the figure.\n",
      "  plt.show()\n"
     ]
    },
    {
     "data": {
      "image/png": "[encoded data removed]",
      "text/plain": [
       "<Figure size 432x288 with 1 Axes>"
      ]
     },
     "metadata": {
      "needs_background": "light"
     },
     "output_type": "display_data"
    }
   ],
   "source": [
    "plt.plot(cam['P'], cam['I'], 'k.', linewidth=1, label='measurments')\n",
    "\n",
    "# plt.plot(calib['barrel'], calib['lambda'], '.', linewidth=1, label='calibration points')\n",
    "\n",
    "p1 = cam['P'][cam['P'] < 550]\n",
    "p2 = cam['P'][cam['P'] > 550]\n",
    "\n",
    "i1 = cam['I'][cam['P'] < 550]\n",
    "i2 = cam['I'][cam['P'] > 550]\n",
    "\n",
    "poly, cov = np.polyfit(p1, i1, 1, cov=True)\n",
    "x1 = np.linspace(400, 600, num=100)\n",
    "plt.plot(x1, np.polyval(poly, x1), 'k--', linewidth=1)\n",
    "\n",
    "poly, cov = np.polyfit(p2, i2, 1, cov=True)\n",
    "x2 = np.linspace(500, 700, num=100)\n",
    "plt.plot(x2, np.polyval(poly, x2), 'k--', linewidth=1)\n",
    "\n",
    "plt.plot([573, 573], [1000, 0], 'k--', linewidth=1)\n",
    "\n",
    "plt.grid(linestyle='--')\n",
    "plt.xlabel('$P, torr$')\n",
    "plt.ylabel('$I, pA$')\n",
    "plt.legend()\n",
    "\n",
    "plt.savefig('cam.pgf')\n",
    "plt.show()"
   ]
  },
  {
   "cell_type": "code",
   "execution_count": 55,
   "id": "d6a14bbe",
   "metadata": {},
   "outputs": [
    {
     "name": "stdout",
     "output_type": "stream",
     "text": [
      "\\begin{tabular}{lrr}\n",
      "\\toprule\n",
      "{} &    P &    I \\\\\n",
      "\\midrule\n",
      "0  &   20 &   16 \\\\\n",
      "1  &   35 &   42 \\\\\n",
      "2  &   60 &   75 \\\\\n",
      "3  &   82 &  108 \\\\\n",
      "4  &  110 &  150 \\\\\n",
      "5  &  135 &  189 \\\\\n",
      "6  &  160 &  226 \\\\\n",
      "7  &  185 &  264 \\\\\n",
      "8  &  210 &  304 \\\\\n",
      "9  &  235 &  349 \\\\\n",
      "10 &  260 &  390 \\\\\n",
      "11 &  310 &  485 \\\\\n",
      "12 &  360 &  577 \\\\\n",
      "13 &  410 &  681 \\\\\n",
      "14 &  460 &  775 \\\\\n",
      "15 &  510 &  880 \\\\\n",
      "16 &  560 &  960 \\\\\n",
      "17 &  610 &  970 \\\\\n",
      "18 &  590 &  970 \\\\\n",
      "19 &  540 &  940 \\\\\n",
      "20 &  580 &  975 \\\\\n",
      "21 &  570 &  970 \\\\\n",
      "22 &  670 &  955 \\\\\n",
      "23 &  650 &  962 \\\\\n",
      "24 &  630 &  966 \\\\\n",
      "25 &  685 &  968 \\\\\n",
      "26 &  710 &  946 \\\\\n",
      "27 &  730 &  939 \\\\\n",
      "28 &  750 &  937 \\\\\n",
      "\\bottomrule\n",
      "\\end{tabular}\n",
      "\n"
     ]
    }
   ],
   "source": [
    "print(cam.to_latex())"
   ]
  },
  {
   "cell_type": "code",
   "execution_count": null,
   "id": "d144a791",
   "metadata": {},
   "outputs": [],
   "source": []
  }
 ],
 "metadata": {
  "kernelspec": {
   "display_name": "Python 3 (ipykernel)",
   "language": "python",
   "name": "python3"
  },
  "language_info": {
   "codemirror_mode": {
    "name": "ipython",
    "version": 3
   },
   "file_extension": ".py",
   "mimetype": "text/x-python",
   "name": "python",
   "nbconvert_exporter": "python",
   "pygments_lexer": "ipython3",
   "version": "3.8.10"
  }
 },
 "nbformat": 4,
 "nbformat_minor": 5
}
